{
 "cells": [
  {
   "cell_type": "markdown",
   "metadata": {},
   "source": [
    "# A. Creating Spark Session and Loading the Data\n",
    "\n",
    "## Step 01: Import Spark Session and initialize Spark\n",
    "\n",
    "Spark context has been imported and Spark session has been created in order to used the SQL API's, HIVE andd etc\n",
    "Thes created Spark session uses 4 local cores and appname() to name the application\n",
    "\n",
    "Importing all the nessesary packages needed for the application"
   ]
  },
  {
   "cell_type": "code",
   "execution_count": 1,
   "metadata": {},
   "outputs": [],
   "source": [
    "import os\n",
    "os.environ['PYSPARK_SUBMIT_ARGS'] = '--packages org.mongodb.spark:mongo-spark-connector_2.11:2.4.0 pyspark-shell'\n",
    "from pyspark import SparkContext \n",
    "from pyspark.sql import SparkSession\n",
    "\n",
    "sc = SparkContext.getOrCreate()\n",
    "\n",
    "if (sc is None):\n",
    "    sc = SparkContext(master=\"local[4]\")\n",
    "spark = SparkSession(sparkContext=sc)\\\n",
    "        .builder\\\n",
    "        .appName(\"Weather Prediction App\")\\\n",
    "        .config(\"spark.jars.packages\", \"org.mongodb.spark:mongo-spark-connector_2.11:2.4.0\")\\\n",
    "        .config(\"spark.mongodb.input.uri\", \"mongodb://127.0.0.1/fit5202_db.AUSweather_collection\")\\\n",
    "        .config(\"spark.mongodb.output.uri\", \"mongodb://127.0.0.1/fit5202_db.AUSweather_collection\")\\\n",
    "        .getOrCreate()\n",
    "\n",
    "from pyspark.sql.types import DoubleType\n",
    "from pyspark.ml.feature import Imputer\n",
    "from pyspark.ml.feature import OneHotEncoderEstimator, StringIndexer, VectorAssembler\n",
    "from pyspark.ml import Pipeline\n",
    "from pyspark.ml.classification import LogisticRegression, DecisionTreeClassifier, GBTClassifier, RandomForestClassifier\n",
    "from pyspark.mllib.evaluation import MulticlassMetrics\n",
    "import matplotlib.pyplot as plt\n",
    "import numpy as np\n",
    "%matplotlib inline"
   ]
  },
  {
   "cell_type": "markdown",
   "metadata": {},
   "source": [
    "## Step 02: Load the dataset and print the schema and total number of entires in the file\n",
    "\n",
    "spark.read.csv has been used to read the given CSV file and the number of entirs in the file has been printed along with the schema of the dataframe created by importing the CSV file."
   ]
  },
  {
   "cell_type": "code",
   "execution_count": 2,
   "metadata": {},
   "outputs": [
    {
     "name": "stdout",
     "output_type": "stream",
     "text": [
      "+-------------------+--------+-------+-------+--------+-----------+--------+-----------+-------------+----------+----------+------------+------------+-----------+-----------+-----------+-----------+--------+--------+-------+-------+---------+------------+\n",
      "|Date               |Location|MinTemp|MaxTemp|Rainfall|Evaporation|Sunshine|WindGustDir|WindGustSpeed|WindDir9am|WindDir3pm|WindSpeed9am|WindSpeed3pm|Humidity9am|Humidity3pm|Pressure9am|Pressure3pm|Cloud9am|Cloud3pm|Temp9am|Temp3pm|RainToday|RainTomorrow|\n",
      "+-------------------+--------+-------+-------+--------+-----------+--------+-----------+-------------+----------+----------+------------+------------+-----------+-----------+-----------+-----------+--------+--------+-------+-------+---------+------------+\n",
      "|2008-12-01 00:00:00|Albury  |13.4   |22.9   |0.6     |NA         |NA      |W          |44           |W         |WNW       |20          |24          |71         |22         |1007.7     |1007.1     |8       |NA      |16.9   |21.8   |No       |No          |\n",
      "|2008-12-02 00:00:00|Albury  |7.4    |25.1   |0       |NA         |NA      |WNW        |44           |NNW       |WSW       |4           |22          |44         |25         |1010.6     |1007.8     |NA      |NA      |17.2   |24.3   |No       |No          |\n",
      "|2008-12-03 00:00:00|Albury  |12.9   |25.7   |0       |NA         |NA      |WSW        |46           |W         |WSW       |19          |26          |38         |30         |1007.6     |1008.7     |NA      |2       |21     |23.2   |No       |No          |\n",
      "|2008-12-04 00:00:00|Albury  |9.2    |28     |0       |NA         |NA      |NE         |24           |SE        |E         |11          |9           |45         |16         |1017.6     |1012.8     |NA      |NA      |18.1   |26.5   |No       |No          |\n",
      "|2008-12-05 00:00:00|Albury  |17.5   |32.3   |1       |NA         |NA      |W          |41           |ENE       |NW        |7           |20          |82         |33         |1010.8     |1006       |7       |8       |17.8   |29.7   |No       |No          |\n",
      "+-------------------+--------+-------+-------+--------+-----------+--------+-----------+-------------+----------+----------+------------+------------+-----------+-----------+-----------+-----------+--------+--------+-------+-------+---------+------------+\n",
      "only showing top 5 rows\n",
      "\n",
      "Number of Records in the document 142193\n",
      "root\n",
      " |-- Date: timestamp (nullable = true)\n",
      " |-- Location: string (nullable = true)\n",
      " |-- MinTemp: string (nullable = true)\n",
      " |-- MaxTemp: string (nullable = true)\n",
      " |-- Rainfall: string (nullable = true)\n",
      " |-- Evaporation: string (nullable = true)\n",
      " |-- Sunshine: string (nullable = true)\n",
      " |-- WindGustDir: string (nullable = true)\n",
      " |-- WindGustSpeed: string (nullable = true)\n",
      " |-- WindDir9am: string (nullable = true)\n",
      " |-- WindDir3pm: string (nullable = true)\n",
      " |-- WindSpeed9am: string (nullable = true)\n",
      " |-- WindSpeed3pm: string (nullable = true)\n",
      " |-- Humidity9am: string (nullable = true)\n",
      " |-- Humidity3pm: string (nullable = true)\n",
      " |-- Pressure9am: string (nullable = true)\n",
      " |-- Pressure3pm: string (nullable = true)\n",
      " |-- Cloud9am: string (nullable = true)\n",
      " |-- Cloud3pm: string (nullable = true)\n",
      " |-- Temp9am: string (nullable = true)\n",
      " |-- Temp3pm: string (nullable = true)\n",
      " |-- RainToday: string (nullable = true)\n",
      " |-- RainTomorrow: string (nullable = true)\n",
      "\n"
     ]
    }
   ],
   "source": [
    "df = spark.read.csv(\"weatherAUS.csv\", inferSchema=True, header = True)\n",
    "df.show(5, truncate = False)\n",
    "print(\"Number of Records in the document\", df.count())\n",
    "df.printSchema()"
   ]
  },
  {
   "cell_type": "markdown",
   "metadata": {},
   "source": [
    "# B. Data Cleaning and Processing\n",
    "\n",
    "## Step 03: Delete columns from the dataset\n",
    "\n",
    "The mentioned columns have been dropped to maintain the data quality and in the end the accuracy of our ML models."
   ]
  },
  {
   "cell_type": "code",
   "execution_count": 3,
   "metadata": {},
   "outputs": [
    {
     "name": "stdout",
     "output_type": "stream",
     "text": [
      "+-------+-------+--------+-----------+-------------+----------+----------+------------+------------+-----------+-----------+-----------+-----------+---------+------------+\n",
      "|MinTemp|MaxTemp|Rainfall|WindGustDir|WindGustSpeed|WindDir9am|WindDir3pm|WindSpeed9am|WindSpeed3pm|Humidity9am|Humidity3pm|Pressure9am|Pressure3pm|RainToday|RainTomorrow|\n",
      "+-------+-------+--------+-----------+-------------+----------+----------+------------+------------+-----------+-----------+-----------+-----------+---------+------------+\n",
      "|   13.4|   22.9|     0.6|          W|           44|         W|       WNW|          20|          24|         71|         22|     1007.7|     1007.1|       No|          No|\n",
      "|    7.4|   25.1|       0|        WNW|           44|       NNW|       WSW|           4|          22|         44|         25|     1010.6|     1007.8|       No|          No|\n",
      "|   12.9|   25.7|       0|        WSW|           46|         W|       WSW|          19|          26|         38|         30|     1007.6|     1008.7|       No|          No|\n",
      "|    9.2|     28|       0|         NE|           24|        SE|         E|          11|           9|         45|         16|     1017.6|     1012.8|       No|          No|\n",
      "|   17.5|   32.3|       1|          W|           41|       ENE|        NW|           7|          20|         82|         33|     1010.8|       1006|       No|          No|\n",
      "|   14.6|   29.7|     0.2|        WNW|           56|         W|         W|          19|          24|         55|         23|     1009.2|     1005.4|       No|          No|\n",
      "|   14.3|     25|       0|          W|           50|        SW|         W|          20|          24|         49|         19|     1009.6|     1008.2|       No|          No|\n",
      "|    7.7|   26.7|       0|          W|           35|       SSE|         W|           6|          17|         48|         19|     1013.4|     1010.1|       No|          No|\n",
      "|    9.7|   31.9|       0|        NNW|           80|        SE|        NW|           7|          28|         42|          9|     1008.9|     1003.6|       No|         Yes|\n",
      "|   13.1|   30.1|     1.4|          W|           28|         S|       SSE|          15|          11|         58|         27|       1007|     1005.7|      Yes|          No|\n",
      "|   13.4|   30.4|       0|          N|           30|       SSE|       ESE|          17|           6|         48|         22|     1011.8|     1008.7|       No|         Yes|\n",
      "|   15.9|   21.7|     2.2|        NNE|           31|        NE|       ENE|          15|          13|         89|         91|     1010.5|     1004.2|      Yes|         Yes|\n",
      "|   15.9|   18.6|    15.6|          W|           61|       NNW|       NNW|          28|          28|         76|         93|      994.3|        993|      Yes|         Yes|\n",
      "|   12.6|     21|     3.6|         SW|           44|         W|       SSW|          24|          20|         65|         43|     1001.2|     1001.8|      Yes|          No|\n",
      "|    9.8|   27.7|      NA|        WNW|           50|        NA|       WNW|          NA|          22|         50|         28|     1013.4|     1010.3|       NA|          No|\n",
      "|   14.1|   20.9|       0|        ENE|           22|       SSW|         E|          11|           9|         69|         82|     1012.2|     1010.4|       No|         Yes|\n",
      "|   13.5|   22.9|    16.8|          W|           63|         N|       WNW|           6|          20|         80|         65|     1005.8|     1002.2|      Yes|         Yes|\n",
      "|   11.2|   22.5|    10.6|        SSE|           43|       WSW|        SW|          24|          17|         47|         32|     1009.4|     1009.7|      Yes|          No|\n",
      "|    9.8|   25.6|       0|        SSE|           26|        SE|       NNW|          17|           6|         45|         26|     1019.2|     1017.1|       No|          No|\n",
      "|   11.5|   29.3|       0|          S|           24|        SE|        SE|           9|           9|         56|         28|     1019.3|     1014.8|       No|          No|\n",
      "|   17.1|     33|       0|         NE|           43|        NE|         N|          17|          22|         38|         28|     1013.6|     1008.1|       No|          No|\n",
      "|   20.5|   31.8|       0|        WNW|           41|         W|         W|          19|          20|         54|         24|     1007.8|     1005.7|       No|          No|\n",
      "|   15.3|   30.9|       0|          N|           33|       ESE|        NW|           6|          13|         55|         23|       1011|     1008.2|       No|          No|\n",
      "|   12.6|   32.4|       0|          W|           43|         E|         W|           4|          19|         49|         17|     1012.9|     1010.1|       No|          No|\n",
      "|   16.2|   33.9|       0|        WSW|           35|        SE|       WSW|           9|          13|         45|         19|     1010.9|     1007.6|       No|          No|\n",
      "|   16.9|     33|       0|        WSW|           57|        NA|         W|           0|          26|         41|         28|     1006.8|     1003.6|       No|          No|\n",
      "|   20.1|   32.7|       0|        WNW|           48|         N|       WNW|          13|          30|         56|         15|     1005.2|     1001.7|       No|          No|\n",
      "|   19.7|   27.2|       0|        WNW|           46|        NW|       WSW|          19|          30|         49|         22|     1004.8|     1004.2|       No|         Yes|\n",
      "|   12.5|   24.2|     1.2|        WNW|           50|       WSW|        SW|          11|          22|         78|         70|     1005.6|     1003.4|      Yes|          No|\n",
      "|     12|   24.4|     0.8|          W|           39|       WNW|       WNW|          17|          17|         48|         28|     1006.1|     1005.1|       No|          No|\n",
      "|   11.3|   26.5|       0|        WNW|           56|         W|       WNW|          19|          31|         46|         26|     1004.5|     1003.2|       No|          No|\n",
      "|    9.6|   23.9|       0|          W|           41|       WSW|       SSW|          19|          11|         44|         22|     1014.4|     1013.1|       No|          No|\n",
      "|   10.5|   28.8|       0|        SSE|           26|       SSE|         E|          11|           7|         43|         22|     1018.7|     1014.8|       No|          No|\n",
      "|   12.3|   34.6|       0|        WNW|           37|       SSE|        NW|           6|          17|         41|         12|     1015.1|     1010.3|       No|          No|\n",
      "|   12.9|   35.8|       0|        WNW|           41|       ENE|        NW|           6|          26|         41|          9|     1012.6|     1009.2|       No|          No|\n",
      "|   13.7|   37.9|       0|          W|           52|        SE|       WNW|           4|          26|         33|          8|     1010.9|     1006.7|       No|          No|\n",
      "|   16.1|   38.9|       0|          W|           57|         E|         W|           6|          30|         34|         12|       1007|     1002.7|       No|          No|\n",
      "|     14|   28.3|       0|          W|           48|         W|       WSW|          17|          24|         43|         15|     1011.9|     1010.9|       No|          No|\n",
      "|   12.5|   28.4|       0|         NE|           37|       SSE|         S|          20|           9|         38|         16|     1017.8|     1013.7|       No|          No|\n",
      "|     17|   30.8|       0|         NE|           37|       NNE|         E|          15|          11|         36|         24|     1013.4|     1008.1|       No|          No|\n",
      "|   16.9|     32|       0|          S|           31|       SSE|         N|          13|          17|         52|         31|     1009.9|     1006.8|       No|          No|\n",
      "|   17.3|   34.7|       0|         SW|           35|        SE|       WSW|           7|          15|         48|         16|     1014.1|     1012.1|       No|          No|\n",
      "|   17.2|   37.7|       0|        NNW|           35|        SE|        NW|           7|          17|         51|         19|     1015.7|     1010.9|       No|          No|\n",
      "|   17.4|     43|       0|         NW|           39|       SSE|       SSW|           7|          17|         40|          8|     1011.6|     1006.9|       No|          No|\n",
      "|   19.8|   32.7|       0|        WNW|           44|         W|         W|          20|          28|         34|         28|     1008.4|     1009.2|       No|          No|\n",
      "|   14.9|   26.7|       0|         SW|           56|       WSW|        SW|          20|          31|         46|         20|     1014.1|     1012.7|       No|          No|\n",
      "|   10.5|   28.4|       0|         SE|           33|        SE|        SW|          19|          11|         35|         16|     1019.7|     1017.4|       No|          No|\n",
      "|   11.3|   32.2|       0|        WNW|           28|       ENE|       SSW|          17|          15|         34|         17|     1019.7|     1016.2|       No|          No|\n",
      "|   13.9|   36.6|       0|        WNW|           39|       SSE|       NNE|           2|          15|         39|         10|     1015.8|     1010.6|       No|          No|\n",
      "|   18.6|   39.9|       0|        NNW|           61|       SSE|       WNW|           9|          20|         36|         21|     1010.1|     1004.8|       No|          No|\n",
      "+-------+-------+--------+-----------+-------------+----------+----------+------------+------------+-----------+-----------+-----------+-----------+---------+------------+\n",
      "only showing top 50 rows\n",
      "\n"
     ]
    }
   ],
   "source": [
    "RainPredictionDF = df.drop('Date','Location','Evaporation','Sunshine','Cloud9am','Cloud3pm','Temp9am','Temp3pm')\n",
    "RainPredictionDF.show(50, truncate = True)"
   ]
  },
  {
   "cell_type": "markdown",
   "metadata": {},
   "source": [
    "Printing Schema after dropping the unnessesary columns"
   ]
  },
  {
   "cell_type": "code",
   "execution_count": 4,
   "metadata": {},
   "outputs": [
    {
     "name": "stdout",
     "output_type": "stream",
     "text": [
      "root\n",
      " |-- MinTemp: string (nullable = true)\n",
      " |-- MaxTemp: string (nullable = true)\n",
      " |-- Rainfall: string (nullable = true)\n",
      " |-- WindGustDir: string (nullable = true)\n",
      " |-- WindGustSpeed: string (nullable = true)\n",
      " |-- WindDir9am: string (nullable = true)\n",
      " |-- WindDir3pm: string (nullable = true)\n",
      " |-- WindSpeed9am: string (nullable = true)\n",
      " |-- WindSpeed3pm: string (nullable = true)\n",
      " |-- Humidity9am: string (nullable = true)\n",
      " |-- Humidity3pm: string (nullable = true)\n",
      " |-- Pressure9am: string (nullable = true)\n",
      " |-- Pressure3pm: string (nullable = true)\n",
      " |-- RainToday: string (nullable = true)\n",
      " |-- RainTomorrow: string (nullable = true)\n",
      "\n"
     ]
    }
   ],
   "source": [
    "RainPredictionDF.printSchema()"
   ]
  },
  {
   "cell_type": "markdown",
   "metadata": {},
   "source": [
    "## Step 04: Print the number of missing data in each column\n",
    "\n",
    "The number of NA(Null) values in the each of the columns have been displayed."
   ]
  },
  {
   "cell_type": "code",
   "execution_count": 5,
   "metadata": {},
   "outputs": [
    {
     "name": "stdout",
     "output_type": "stream",
     "text": [
      "+-------+-------+--------+-----------+-------------+----------+----------+------------+------------+-----------+-----------+-----------+-----------+---------+------------+\n",
      "|MinTemp|MaxTemp|Rainfall|WindGustDir|WindGustSpeed|WindDir9am|WindDir3pm|WindSpeed9am|WindSpeed3pm|Humidity9am|Humidity3pm|Pressure9am|Pressure3pm|RainToday|RainTomorrow|\n",
      "+-------+-------+--------+-----------+-------------+----------+----------+------------+------------+-----------+-----------+-----------+-----------+---------+------------+\n",
      "|    637|    322|    1406|       9330|         9270|     10013|      3778|        1348|        2630|       1774|       3610|      14014|      13981|     1406|           0|\n",
      "+-------+-------+--------+-----------+-------------+----------+----------+------------+------------+-----------+-----------+-----------+-----------+---------+------------+\n",
      "\n"
     ]
    }
   ],
   "source": [
    "from pyspark.sql.functions import isnan, when, count, col\n",
    "RainPredictionDF.select([count(when(RainPredictionDF[c] == 'NA', c)).alias(c) for c in RainPredictionDF.columns]).show()"
   ]
  },
  {
   "cell_type": "markdown",
   "metadata": {},
   "source": [
    "Converted all the NA values to Null so that Replacement can be done easily in the next step."
   ]
  },
  {
   "cell_type": "code",
   "execution_count": 6,
   "metadata": {},
   "outputs": [
    {
     "name": "stdout",
     "output_type": "stream",
     "text": [
      "+-------+-------+--------+-----------+-------------+----------+----------+------------+------------+-----------+-----------+-----------+-----------+---------+------------+\n",
      "|MinTemp|MaxTemp|Rainfall|WindGustDir|WindGustSpeed|WindDir9am|WindDir3pm|WindSpeed9am|WindSpeed3pm|Humidity9am|Humidity3pm|Pressure9am|Pressure3pm|RainToday|RainTomorrow|\n",
      "+-------+-------+--------+-----------+-------------+----------+----------+------------+------------+-----------+-----------+-----------+-----------+---------+------------+\n",
      "|   13.4|   22.9|     0.6|          W|           44|         W|       WNW|          20|          24|         71|         22|     1007.7|     1007.1|       No|          No|\n",
      "|    7.4|   25.1|       0|        WNW|           44|       NNW|       WSW|           4|          22|         44|         25|     1010.6|     1007.8|       No|          No|\n",
      "|   12.9|   25.7|       0|        WSW|           46|         W|       WSW|          19|          26|         38|         30|     1007.6|     1008.7|       No|          No|\n",
      "|    9.2|     28|       0|         NE|           24|        SE|         E|          11|           9|         45|         16|     1017.6|     1012.8|       No|          No|\n",
      "|   17.5|   32.3|       1|          W|           41|       ENE|        NW|           7|          20|         82|         33|     1010.8|       1006|       No|          No|\n",
      "|   14.6|   29.7|     0.2|        WNW|           56|         W|         W|          19|          24|         55|         23|     1009.2|     1005.4|       No|          No|\n",
      "|   14.3|     25|       0|          W|           50|        SW|         W|          20|          24|         49|         19|     1009.6|     1008.2|       No|          No|\n",
      "|    7.7|   26.7|       0|          W|           35|       SSE|         W|           6|          17|         48|         19|     1013.4|     1010.1|       No|          No|\n",
      "|    9.7|   31.9|       0|        NNW|           80|        SE|        NW|           7|          28|         42|          9|     1008.9|     1003.6|       No|         Yes|\n",
      "|   13.1|   30.1|     1.4|          W|           28|         S|       SSE|          15|          11|         58|         27|       1007|     1005.7|      Yes|          No|\n",
      "|   13.4|   30.4|       0|          N|           30|       SSE|       ESE|          17|           6|         48|         22|     1011.8|     1008.7|       No|         Yes|\n",
      "|   15.9|   21.7|     2.2|        NNE|           31|        NE|       ENE|          15|          13|         89|         91|     1010.5|     1004.2|      Yes|         Yes|\n",
      "|   15.9|   18.6|    15.6|          W|           61|       NNW|       NNW|          28|          28|         76|         93|      994.3|        993|      Yes|         Yes|\n",
      "|   12.6|     21|     3.6|         SW|           44|         W|       SSW|          24|          20|         65|         43|     1001.2|     1001.8|      Yes|          No|\n",
      "|    9.8|   27.7|    null|        WNW|           50|      null|       WNW|        null|          22|         50|         28|     1013.4|     1010.3|     null|          No|\n",
      "|   14.1|   20.9|       0|        ENE|           22|       SSW|         E|          11|           9|         69|         82|     1012.2|     1010.4|       No|         Yes|\n",
      "|   13.5|   22.9|    16.8|          W|           63|         N|       WNW|           6|          20|         80|         65|     1005.8|     1002.2|      Yes|         Yes|\n",
      "|   11.2|   22.5|    10.6|        SSE|           43|       WSW|        SW|          24|          17|         47|         32|     1009.4|     1009.7|      Yes|          No|\n",
      "|    9.8|   25.6|       0|        SSE|           26|        SE|       NNW|          17|           6|         45|         26|     1019.2|     1017.1|       No|          No|\n",
      "|   11.5|   29.3|       0|          S|           24|        SE|        SE|           9|           9|         56|         28|     1019.3|     1014.8|       No|          No|\n",
      "+-------+-------+--------+-----------+-------------+----------+----------+------------+------------+-----------+-----------+-----------+-----------+---------+------------+\n",
      "only showing top 20 rows\n",
      "\n"
     ]
    }
   ],
   "source": [
    "def naToNull(df_column):\n",
    "    return when(col(df_column) != \"NA\", col(df_column)).otherwise(None)\n",
    "        \n",
    "to_convert = RainPredictionDF.columns\n",
    "\n",
    "exprs = [naToNull(x).alias(x) if x in to_convert else x for x in RainPredictionDF.columns]\n",
    "new_df = RainPredictionDF.select(*exprs)\n",
    "new_df.show(20)"
   ]
  },
  {
   "cell_type": "markdown",
   "metadata": {},
   "source": [
    "## Step 06 - Part 1 - Converted numerical columns to double type\n",
    "\n",
    "This part was supposed to done after step 05 that is after replacing mena and mode values where ever nessesary. But I have preffered to do it here as it is better to deal with the numerical coulumn once the type has been converted.\n",
    "(The StringIndexer part of step 06 has been done later.)"
   ]
  },
  {
   "cell_type": "code",
   "execution_count": 7,
   "metadata": {},
   "outputs": [
    {
     "name": "stdout",
     "output_type": "stream",
     "text": [
      "root\n",
      " |-- MinTemp: double (nullable = true)\n",
      " |-- MaxTemp: double (nullable = true)\n",
      " |-- Rainfall: double (nullable = true)\n",
      " |-- WindGustDir: string (nullable = true)\n",
      " |-- WindGustSpeed: double (nullable = true)\n",
      " |-- WindDir9am: string (nullable = true)\n",
      " |-- WindDir3pm: string (nullable = true)\n",
      " |-- WindSpeed9am: double (nullable = true)\n",
      " |-- WindSpeed3pm: double (nullable = true)\n",
      " |-- Humidity9am: double (nullable = true)\n",
      " |-- Humidity3pm: double (nullable = true)\n",
      " |-- Pressure9am: double (nullable = true)\n",
      " |-- Pressure3pm: double (nullable = true)\n",
      " |-- RainToday: string (nullable = true)\n",
      " |-- RainTomorrow: string (nullable = true)\n",
      "\n"
     ]
    }
   ],
   "source": [
    "Double_type = [\"MinTemp\",\"MaxTemp\",\"Rainfall\",\"WindGustSpeed\",\"WindSpeed9am\",\"WindSpeed3pm\",\n",
    "     \"Humidity9am\",\"Humidity3pm\",\"Pressure9am\",\"Pressure3pm\"]\n",
    "\n",
    "String_type = ['WindGustDir', 'WindDir9am',  'WindDir3pm', 'RainToday', 'RainTomorrow']\n",
    "\n",
    "for c in Double_type:\n",
    "    new_df = new_df.withColumn(c, new_df[c].cast('double'))\n",
    "    \n",
    "new_df.printSchema()"
   ]
  },
  {
   "cell_type": "markdown",
   "metadata": {},
   "source": [
    "## Step 05 - Fill the missing data with average value and maximum occurrence value.\n",
    "\n",
    "Here I have use the pyspark's ML feature Imputer to impute the mean values for all the double columns or the numerical columns"
   ]
  },
  {
   "cell_type": "code",
   "execution_count": 8,
   "metadata": {},
   "outputs": [],
   "source": [
    "imputer = Imputer(\n",
    "    inputCols=Double_type,\n",
    "    outputCols=[\"{}\".format(c) for c in Double_type])\n",
    "\n",
    "DF_mean = imputer.setStrategy(\"mean\").fit(new_df).transform(new_df)"
   ]
  },
  {
   "cell_type": "markdown",
   "metadata": {},
   "source": [
    "Checking the NA values in each column after replacing mean to check if means have been populated where ever nessesary."
   ]
  },
  {
   "cell_type": "code",
   "execution_count": 9,
   "metadata": {},
   "outputs": [
    {
     "name": "stdout",
     "output_type": "stream",
     "text": [
      "+-------+-------+--------+-----------+-------------+----------+----------+------------+------------+-----------+-----------+-----------+-----------+---------+------------+\n",
      "|MinTemp|MaxTemp|Rainfall|WindGustDir|WindGustSpeed|WindDir9am|WindDir3pm|WindSpeed9am|WindSpeed3pm|Humidity9am|Humidity3pm|Pressure9am|Pressure3pm|RainToday|RainTomorrow|\n",
      "+-------+-------+--------+-----------+-------------+----------+----------+------------+------------+-----------+-----------+-----------+-----------+---------+------------+\n",
      "|      0|      0|       0|       9330|            0|     10013|      3778|           0|           0|          0|          0|          0|          0|     1406|           0|\n",
      "+-------+-------+--------+-----------+-------------+----------+----------+------------+------------+-----------+-----------+-----------+-----------+---------+------------+\n",
      "\n"
     ]
    }
   ],
   "source": [
    "DF_mean.select([count(when(DF_mean[c].isNull()|isnan(c), c))\\\n",
    "                             .alias(c) for c in DF_mean.columns])\\\n",
    "                             .show()"
   ]
  },
  {
   "cell_type": "markdown",
   "metadata": {},
   "source": [
    "For Replacing the NA values with the mode values, a function has been written to which computes the mode of each column and store is in a dictionary format along with the column names."
   ]
  },
  {
   "cell_type": "code",
   "execution_count": 10,
   "metadata": {},
   "outputs": [
    {
     "data": {
      "text/plain": [
       "{'WindGustDir': 'W',\n",
       " 'WindDir9am': 'N',\n",
       " 'WindDir3pm': 'SE',\n",
       " 'RainToday': 'No',\n",
       " 'RainTomorrow': 'No'}"
      ]
     },
     "execution_count": 10,
     "metadata": {},
     "output_type": "execute_result"
    }
   ],
   "source": [
    "def calMode(df, column):\n",
    "    df_mode = df.where(col(column).isNotNull())\\\n",
    "    .groupBy(column)\\\n",
    "    .count()\n",
    "    \n",
    "    return df_mode.sort(col(\"count\").desc()).collect()[0][0]\n",
    "\n",
    "mode_dict = {column: calMode(DF_mean, column) for column in String_type}\n",
    "mode_dict"
   ]
  },
  {
   "cell_type": "markdown",
   "metadata": {},
   "source": [
    "The same disctionary is used to fill the mode values in the repective columns where nessesary."
   ]
  },
  {
   "cell_type": "code",
   "execution_count": 11,
   "metadata": {
    "scrolled": true
   },
   "outputs": [
    {
     "name": "stdout",
     "output_type": "stream",
     "text": [
      "+-------+-------+--------+-----------+-------------+----------+----------+------------+------------+-----------+-----------+-----------+-----------+---------+------------+\n",
      "|MinTemp|MaxTemp|Rainfall|WindGustDir|WindGustSpeed|WindDir9am|WindDir3pm|WindSpeed9am|WindSpeed3pm|Humidity9am|Humidity3pm|Pressure9am|Pressure3pm|RainToday|RainTomorrow|\n",
      "+-------+-------+--------+-----------+-------------+----------+----------+------------+------------+-----------+-----------+-----------+-----------+---------+------------+\n",
      "|      0|      0|       0|          0|            0|         0|         0|           0|           0|          0|          0|          0|          0|        0|           0|\n",
      "+-------+-------+--------+-----------+-------------+----------+----------+------------+------------+-----------+-----------+-----------+-----------+---------+------------+\n",
      "\n",
      "root\n",
      " |-- MinTemp: double (nullable = true)\n",
      " |-- MaxTemp: double (nullable = true)\n",
      " |-- Rainfall: double (nullable = true)\n",
      " |-- WindGustDir: string (nullable = false)\n",
      " |-- WindGustSpeed: double (nullable = true)\n",
      " |-- WindDir9am: string (nullable = false)\n",
      " |-- WindDir3pm: string (nullable = false)\n",
      " |-- WindSpeed9am: double (nullable = true)\n",
      " |-- WindSpeed3pm: double (nullable = true)\n",
      " |-- Humidity9am: double (nullable = true)\n",
      " |-- Humidity3pm: double (nullable = true)\n",
      " |-- Pressure9am: double (nullable = true)\n",
      " |-- Pressure3pm: double (nullable = true)\n",
      " |-- RainToday: string (nullable = false)\n",
      " |-- RainTomorrow: string (nullable = false)\n",
      "\n"
     ]
    }
   ],
   "source": [
    "df_mode = DF_mean.na.fill(mode_dict)    \n",
    "df_mode.select([count(when(df_mode[c].isNull()|isnan(c), c)).alias(c) for c in df_mode.columns]).show()\n",
    "df_mode.printSchema()"
   ]
  },
  {
   "cell_type": "markdown",
   "metadata": {},
   "source": [
    "## Step 06 - Data tranformation\n",
    "\n",
    "The StringIndexer is used to convert the non-numerical columns into numerical columns\n",
    "\n",
    "## Step 07 - Create the feature Vector and Divide the data set\n",
    "\n",
    "In the same step the step 07 has also been performed as the data is put into a pipeline with a series of transformations to ultimately get the data in the for of features to apply the ML algorithms on.\n",
    "\n",
    "Since the data is put in a pipeline the step 06 was also performed in the same step and the stringindexer was also added to the pipeline.\n",
    "\n",
    "Please read the comments to know where the step has been performed "
   ]
  },
  {
   "cell_type": "code",
   "execution_count": 12,
   "metadata": {},
   "outputs": [],
   "source": [
    "categoricalColumns = ['WindGustDir', 'WindDir9am',  'WindDir3pm', 'RainToday']\n",
    "numericCols = Double_type\n",
    "\n",
    "stages = []\n",
    "\n",
    "for column in categoricalColumns:  \n",
    "    indexers = StringIndexer(inputCol=column, outputCol='{}_Index'.format(column)) ## String Indexer STEP 06\n",
    "    encoder = OneHotEncoderEstimator(inputCols=[indexers.getOutputCol()], outputCols=[column + \"classVec\"])##OneHot STEP 07\n",
    "    stages += [indexers, encoder] \n",
    "    \n",
    "label_stringIdx = StringIndexer(inputCol = 'RainTomorrow', outputCol = 'label')## StringIndexer STEP 06\n",
    "\n",
    "stages += [label_stringIdx]\n",
    "\n",
    "assemblerInputs = [c + \"classVec\" for c in categoricalColumns] + numericCols\n",
    "assembler = VectorAssembler(inputCols = assemblerInputs, outputCol=\"features\")## Vector Assembler STEP 07\n",
    "\n",
    "stages += [assembler]\n",
    "\n",
    "pipeline = Pipeline(stages=stages)\n",
    "modelPipeline = pipeline.fit(df_mode)\n",
    "df = modelPipeline.transform(df_mode)"
   ]
  },
  {
   "cell_type": "markdown",
   "metadata": {},
   "source": [
    "The Data set has been randomly split and divided into training and test set with a ratio of 70:30 respectively"
   ]
  },
  {
   "cell_type": "code",
   "execution_count": 13,
   "metadata": {},
   "outputs": [
    {
     "name": "stdout",
     "output_type": "stream",
     "text": [
      "Training Dataset Count: 99612\n",
      "Test Dataset Count: 42581\n"
     ]
    }
   ],
   "source": [
    "train, test = df.randomSplit([0.7, 0.3], seed = 42)\n",
    "print(\"Training Dataset Count: \" + str(train.count()))\n",
    "print(\"Test Dataset Count: \" + str(test.count()))"
   ]
  },
  {
   "cell_type": "markdown",
   "metadata": {},
   "source": [
    "# C. Apply Machine Learning Algorithms\n",
    "\n",
    "## Step 08: Apply Machine Learning classification algorithms on the dataset and compare their accuracy. Plot the accuracy as a abar graph.\n",
    "\n",
    "The model taken under consideration were\n",
    "1. Logistic Regeression\n",
    "2. Desicion Tree Classifier\n",
    "3. Random Forest Classifier\n",
    "4. GBT Classifier \n",
    "\n",
    "The accuracy of each of the classification algorithms are calculated with the intension to predict the probability of NO RAIN TOMMOROW (0) (that being the true positive in my cinfusion matrix)"
   ]
  },
  {
   "cell_type": "markdown",
   "metadata": {},
   "source": [
    "### Logistic Regression Model"
   ]
  },
  {
   "cell_type": "code",
   "execution_count": 14,
   "metadata": {},
   "outputs": [],
   "source": [
    "lr = LogisticRegression(featuresCol = 'features', labelCol = 'label',    maxIter=10)\n",
    "lrModel = lr.fit(train)\n",
    "\n",
    "lrpredictions = lrModel.transform(test)"
   ]
  },
  {
   "cell_type": "code",
   "execution_count": 15,
   "metadata": {},
   "outputs": [
    {
     "name": "stdout",
     "output_type": "stream",
     "text": [
      "Logistic Regression Accuracy: 81.74537939456566%\n"
     ]
    }
   ],
   "source": [
    "lrmetrics = MulticlassMetrics(lrpredictions.select(\"prediction\", \"label\").rdd)\n",
    "lrAcc = lrmetrics.accuracy*100\n",
    "print(\"Logistic Regression Accuracy: \" + str(lrAcc)+\"%\")"
   ]
  },
  {
   "cell_type": "markdown",
   "metadata": {},
   "source": [
    "### Decision Tree Classifier Model"
   ]
  },
  {
   "cell_type": "code",
   "execution_count": 16,
   "metadata": {},
   "outputs": [],
   "source": [
    "dt = DecisionTreeClassifier(labelCol=\"label\", featuresCol=\"features\", maxDepth = 3)\n",
    "dtmodel = dt.fit(train)\n",
    "\n",
    "dtpredictions = dtmodel.transform(test)"
   ]
  },
  {
   "cell_type": "code",
   "execution_count": 17,
   "metadata": {},
   "outputs": [
    {
     "name": "stdout",
     "output_type": "stream",
     "text": [
      "Decision Tree Classifier Accuracy: 82.38651041544351%\n"
     ]
    }
   ],
   "source": [
    "dtmetrics = MulticlassMetrics(dtpredictions.select(\"prediction\", \"label\").rdd)\n",
    "dtAcc = dtmetrics.accuracy*100\n",
    "print(\"Decision Tree Classifier Accuracy: \" + str(dtAcc)+\"%\")"
   ]
  },
  {
   "cell_type": "markdown",
   "metadata": {},
   "source": [
    "### Random Forest Classifier Model"
   ]
  },
  {
   "cell_type": "code",
   "execution_count": 18,
   "metadata": {},
   "outputs": [],
   "source": [
    "rf = RandomForestClassifier(labelCol=\"label\", featuresCol=\"features\", numTrees=10)\n",
    "rfmodel = rf.fit(train)\n",
    "\n",
    "rfpredictions = rfmodel.transform(test)"
   ]
  },
  {
   "cell_type": "code",
   "execution_count": 19,
   "metadata": {},
   "outputs": [
    {
     "name": "stdout",
     "output_type": "stream",
     "text": [
      "Random Forest Classifier Accuracy: 82.68006857518611%\n"
     ]
    }
   ],
   "source": [
    "rfmetrics = MulticlassMetrics(rfpredictions.select(\"prediction\", \"label\").rdd)\n",
    "rfAcc = rfmetrics.accuracy*100\n",
    "print(\"Random Forest Classifier Accuracy: \" + str(rfAcc)+\"%\")"
   ]
  },
  {
   "cell_type": "markdown",
   "metadata": {},
   "source": [
    "### GBT Classifier Model"
   ]
  },
  {
   "cell_type": "code",
   "execution_count": 20,
   "metadata": {},
   "outputs": [],
   "source": [
    "gbt = GBTClassifier(labelCol=\"label\", featuresCol=\"features\", maxIter=10)\n",
    "gbtmodel = gbt.fit(train)\n",
    "\n",
    "gbtpredictions = gbtmodel.transform(test)"
   ]
  },
  {
   "cell_type": "code",
   "execution_count": 21,
   "metadata": {},
   "outputs": [
    {
     "name": "stdout",
     "output_type": "stream",
     "text": [
      "GBT Classifier Accuracy: 83.91770977666096%\n"
     ]
    }
   ],
   "source": [
    "gbtmetrics = MulticlassMetrics(gbtpredictions.select(\"prediction\", \"label\").rdd)\n",
    "gbtAcc = gbtmetrics.accuracy*100\n",
    "print(\"GBT Classifier Accuracy: \" + str(gbtAcc)+\"%\")"
   ]
  },
  {
   "cell_type": "markdown",
   "metadata": {},
   "source": [
    "## Plotting the accuracy of each of the models using a bar chart "
   ]
  },
  {
   "cell_type": "code",
   "execution_count": 22,
   "metadata": {},
   "outputs": [],
   "source": [
    "ListAcc = [lrAcc, dtAcc, rfAcc, gbtAcc]\n",
    "ListNames = [\"Logistic Regression\", \"Decision Tree Classifier\",\"Random Forest Classifier\",\"GBT Classifier\"]\n",
    "\n",
    "def plot_acc(Acc, Names):\n",
    "    objects_y_1 = Acc\n",
    "    objects_x_1 = Names\n",
    "    y_pos_1 = np.arange(len(objects_y_1))\n",
    "    x_pos_1 = np.arange(len(objects_x_1)) \n",
    "    y_axis_1 = Acc\n",
    "    x_axis_1 = Names\n",
    "    plt.figure(figsize=(10,5))\n",
    "    plt.bar(x_axis_1, y_axis_1, align='center', color='darkcyan')\n",
    "    plt.xticks(x_pos_1, objects_x_1, rotation = 0)\n",
    "    #plt.yticks(objects_y_1 )\n",
    "    plt.xlabel('Classifier Models')\n",
    "    plt.ylabel('Accuracy')\n",
    "    plt.title('Plotting the Accuracy of each classifier model')\n",
    "    plt.style.use('seaborn-whitegrid')\n",
    "    for i, v in enumerate(y_axis_1):\n",
    "        plt.text(y_pos_1[i] - 0.3, v , str(v))\n",
    "    plt.show()"
   ]
  },
  {
   "cell_type": "code",
   "execution_count": 23,
   "metadata": {},
   "outputs": [
    {
     "data": {
      "image/png": "[encoded data removed]",
      "text/plain": [
       "<Figure size 720x360 with 1 Axes>"
      ]
     },
     "metadata": {
      "needs_background": "light"
     },
     "output_type": "display_data"
    }
   ],
   "source": [
    "plot_acc(ListAcc, ListNames)"
   ]
  },
  {
   "cell_type": "markdown",
   "metadata": {},
   "source": [
    "## Step 09 : Calculate confusion Matrix and find precision, recall and F1 score of each classification algorithm. Explain how the accuracy can be improved\n",
    "\n",
    "The precision, recall and the F1 score of each of the classification algorithms are calculated with the intension to predict the probability of NO RAIN TOMMOROW (0) (that being the true positive in my cinfusion matrix)"
   ]
  },
  {
   "cell_type": "markdown",
   "metadata": {},
   "source": [
    "### Calculating the confusion matrix for logostic regression model and calculating the precision, recall and f1 score for the same"
   ]
  },
  {
   "cell_type": "code",
   "execution_count": 24,
   "metadata": {},
   "outputs": [
    {
     "data": {
      "text/plain": [
       "array([[30838.,  2183.],\n",
       "       [ 5590.,  3970.]])"
      ]
     },
     "execution_count": 24,
     "metadata": {},
     "output_type": "execute_result"
    }
   ],
   "source": [
    "lrmetrics.confusionMatrix().toArray()"
   ]
  },
  {
   "cell_type": "code",
   "execution_count": 25,
   "metadata": {},
   "outputs": [
    {
     "name": "stdout",
     "output_type": "stream",
     "text": [
      "Logistic Regression Precision: 0.8465466124958823\n"
     ]
    }
   ],
   "source": [
    "lrprecision = lrmetrics.precision(0.0)\n",
    "print(\"Logistic Regression Precision: \" + str(lrprecision))"
   ]
  },
  {
   "cell_type": "code",
   "execution_count": 26,
   "metadata": {},
   "outputs": [
    {
     "name": "stdout",
     "output_type": "stream",
     "text": [
      "Logistic Regression Recall: 0.933890554495624\n"
     ]
    }
   ],
   "source": [
    "lrrecall = lrmetrics.recall(0.0)\n",
    "print(\"Logistic Regression Recall: \" + str(lrrecall))"
   ]
  },
  {
   "cell_type": "code",
   "execution_count": 27,
   "metadata": {},
   "outputs": [
    {
     "name": "stdout",
     "output_type": "stream",
     "text": [
      "Logistic Regression F1 score: 0.9150090201291304\n"
     ]
    }
   ],
   "source": [
    "lrf1score = lrmetrics.fMeasure(0.0, 2.0)\n",
    "print(\"Logistic Regression F1 score: \" + str(lrf1score))"
   ]
  },
  {
   "cell_type": "markdown",
   "metadata": {},
   "source": [
    "### Calculating the confusion matrix for decision tree classifier model and calculating the precision, recall and f1 score for the same"
   ]
  },
  {
   "cell_type": "code",
   "execution_count": 28,
   "metadata": {},
   "outputs": [
    {
     "data": {
      "text/plain": [
       "array([[31597.,  1424.],\n",
       "       [ 6076.,  3484.]])"
      ]
     },
     "execution_count": 28,
     "metadata": {},
     "output_type": "execute_result"
    }
   ],
   "source": [
    "dtmetrics.confusionMatrix().toArray()"
   ]
  },
  {
   "cell_type": "code",
   "execution_count": 29,
   "metadata": {},
   "outputs": [
    {
     "name": "stdout",
     "output_type": "stream",
     "text": [
      "Decision Tree Classifier Precision: 0.8387173838027234\n"
     ]
    }
   ],
   "source": [
    "dtprecision = dtmetrics.precision(0.0)\n",
    "print(\"Decision Tree Classifier Precision: \" + str(dtprecision))"
   ]
  },
  {
   "cell_type": "code",
   "execution_count": 30,
   "metadata": {},
   "outputs": [
    {
     "name": "stdout",
     "output_type": "stream",
     "text": [
      "Decision Tree Classifier Recall: 0.9568759274401138\n"
     ]
    }
   ],
   "source": [
    "dtrecall = dtmetrics.recall(0.0)\n",
    "print(\"Decision Tree Classifier Recall: \" + str(dtrecall))"
   ]
  },
  {
   "cell_type": "code",
   "execution_count": 31,
   "metadata": {},
   "outputs": [
    {
     "name": "stdout",
     "output_type": "stream",
     "text": [
      "Decision Tree Classifier F1 score: 0.930653816926548\n"
     ]
    }
   ],
   "source": [
    "dtf1score = dtmetrics.fMeasure(0.0, 2.0)\n",
    "print(\"Decision Tree Classifier F1 score: \" + str(dtf1score))"
   ]
  },
  {
   "cell_type": "markdown",
   "metadata": {},
   "source": [
    "### Calculating the confusion matrix for random forest classifier model and calculating the precision, recall and f1 score for the same"
   ]
  },
  {
   "cell_type": "code",
   "execution_count": 32,
   "metadata": {},
   "outputs": [
    {
     "data": {
      "text/plain": [
       "array([[32196.,   825.],\n",
       "       [ 6550.,  3010.]])"
      ]
     },
     "execution_count": 32,
     "metadata": {},
     "output_type": "execute_result"
    }
   ],
   "source": [
    "rfmetrics.confusionMatrix().toArray()"
   ]
  },
  {
   "cell_type": "code",
   "execution_count": 33,
   "metadata": {},
   "outputs": [
    {
     "name": "stdout",
     "output_type": "stream",
     "text": [
      "Random forest Classifier Precision: 0.8309502916430083\n"
     ]
    }
   ],
   "source": [
    "rfprecision = rfmetrics.precision(0.0)\n",
    "print(\"Random forest Classifier Precision: \" + str(rfprecision))"
   ]
  },
  {
   "cell_type": "code",
   "execution_count": 34,
   "metadata": {},
   "outputs": [
    {
     "name": "stdout",
     "output_type": "stream",
     "text": [
      "Random forest Classifier Recall: 0.9750158989733806\n"
     ]
    }
   ],
   "source": [
    "rfrecall = rfmetrics.recall(0.0)\n",
    "print(\"Random forest Classifier Recall: \" + str(rfrecall))"
   ]
  },
  {
   "cell_type": "code",
   "execution_count": 35,
   "metadata": {},
   "outputs": [
    {
     "name": "stdout",
     "output_type": "stream",
     "text": [
      "Random forest Classifier F1 score: 0.9423403383480651\n"
     ]
    }
   ],
   "source": [
    "rff1score = rfmetrics.fMeasure(0.0, 2.0)\n",
    "print(\"Random forest Classifier F1 score: \" + str(rff1score))"
   ]
  },
  {
   "cell_type": "markdown",
   "metadata": {},
   "source": [
    "### Calculating the confusion matrix for GBT classifier model and calculating the precision, recall and f1 score for the same"
   ]
  },
  {
   "cell_type": "code",
   "execution_count": 36,
   "metadata": {},
   "outputs": [
    {
     "data": {
      "text/plain": [
       "array([[31556.,  1465.],\n",
       "       [ 5383.,  4177.]])"
      ]
     },
     "execution_count": 36,
     "metadata": {},
     "output_type": "execute_result"
    }
   ],
   "source": [
    "gbtmetrics.confusionMatrix().toArray()"
   ]
  },
  {
   "cell_type": "code",
   "execution_count": 37,
   "metadata": {},
   "outputs": [
    {
     "name": "stdout",
     "output_type": "stream",
     "text": [
      "GBT Classifier Precision: 0.8542732613227212\n"
     ]
    }
   ],
   "source": [
    "gbtprecision = gbtmetrics.precision(0.0)\n",
    "print(\"GBT Classifier Precision: \" + str(gbtprecision))"
   ]
  },
  {
   "cell_type": "code",
   "execution_count": 38,
   "metadata": {},
   "outputs": [
    {
     "name": "stdout",
     "output_type": "stream",
     "text": [
      "GBT Classifier Recall: 0.9556342933284879\n"
     ]
    }
   ],
   "source": [
    "gbtrecall = gbtmetrics.recall(0.0)\n",
    "print(\"GBT Classifier Recall: \" + str(gbtrecall))"
   ]
  },
  {
   "cell_type": "code",
   "execution_count": 39,
   "metadata": {},
   "outputs": [
    {
     "name": "stdout",
     "output_type": "stream",
     "text": [
      "GBT Classifier F1 score: 0.9334824254687232\n"
     ]
    }
   ],
   "source": [
    "gbtf1score = gbtmetrics.fMeasure(0.0, 2.0)\n",
    "print(\"GBT Classifier F1 score: \" + str(gbtf1score))"
   ]
  },
  {
   "cell_type": "markdown",
   "metadata": {},
   "source": [
    "### How to increase the accuracy the accuracy of the models??"
   ]
  },
  {
   "cell_type": "markdown",
   "metadata": {},
   "source": [
    "#### The Accuracy of the model can be invreased in many differernt ways.\n",
    "\n",
    "##### 1. Feature Selection/Engineering\n",
    "\n",
    "The features considered for building the models have to be extracted by applying a feature selection method such as AIC or BIC score. This would ensure that the features selected for building the model are apt and would not underfit or overfit the model which affects the accuracy of the prediction.\n",
    "\n",
    "\n",
    "##### 2. Find the apt model which will suit the application needs\n",
    "\n",
    "In this case, since the task was binary classification, SVM (Support vector machine) would have been a better model in comaprison to logistic regression\n",
    "\n",
    "\n",
    "##### 3. ML Tuning\n",
    "\n",
    "Validating the model by running validation test with different set of test and training data ensures that the accuracy of the model improves. For example Cross validation could be done to refine the accuracy of the model.\n",
    "\n",
    "\n",
    "##### 4. Maintain Balance in the dataset\n",
    "\n",
    "A dataset should be balanced, as in the prediction outcome in the test set should be almost equal in number to avoid leaning toward a specific outcome. Another approach to do this would be a appropriate method of sampling the data to avoid chances of the machine learning more about a particular outcome.\n",
    "\n",
    "\n",
    "\n"
   ]
  },
  {
   "cell_type": "markdown",
   "metadata": {},
   "source": [
    "#### Cross Validation done on GBT (The one with the best accuracy) to refine the accuracy further"
   ]
  },
  {
   "cell_type": "code",
   "execution_count": 40,
   "metadata": {},
   "outputs": [
    {
     "data": {
      "text/plain": [
       "0.8630978444806081"
      ]
     },
     "execution_count": 40,
     "metadata": {},
     "output_type": "execute_result"
    }
   ],
   "source": [
    "from pyspark.ml.tuning import ParamGridBuilder, CrossValidator\n",
    "from pyspark.ml.evaluation import BinaryClassificationEvaluator\n",
    "\n",
    "evaluator = BinaryClassificationEvaluator()\n",
    "\n",
    "paramGr = (ParamGridBuilder().addGrid(gbt.maxDepth, [2,4,6])\n",
    "          .addGrid(gbt.maxBins, [20,60])\n",
    "          .addGrid(gbt.maxIter, [10,20])\n",
    "          .build())\n",
    "\n",
    "cv = CrossValidator(estimator=gbt, estimatorParamMaps=paramGr, evaluator=evaluator, numFolds = 5)\n",
    "cvModel = cv.fit(train)\n",
    "predictions = cvModel.transform(test)\n"
   ]
  },
  {
   "cell_type": "code",
   "execution_count": 44,
   "metadata": {},
   "outputs": [
    {
     "name": "stdout",
     "output_type": "stream",
     "text": [
      "Cross Validation Accuracy of GBT: 86.30978444806058%\n"
     ]
    }
   ],
   "source": [
    "cvAcc = evaluator.evaluate(predictions)\n",
    "print(\"Cross Validation Accuracy of GBT: \" + str(cvAcc*100)+\"%\")"
   ]
  }
 ],
 "metadata": {
  "kernelspec": {
   "display_name": "Python 3",
   "language": "python",
   "name": "python3"
  },
  "language_info": {
   "codemirror_mode": {
    "name": "ipython",
    "version": 3
   },
   "file_extension": ".py",
   "mimetype": "text/x-python",
   "name": "python",
   "nbconvert_exporter": "python",
   "pygments_lexer": "ipython3",
   "version": "3.6.8"
  }
 },
 "nbformat": 4,
 "nbformat_minor": 2
}
